{
 "cells": [
  {
   "cell_type": "code",
   "execution_count": 4,
   "metadata": {},
   "outputs": [
    {
     "name": "stdout",
     "output_type": "stream",
     "text": [
      "637.5332789999998\n"
     ]
    }
   ],
   "source": [
    "# checking database \n",
    "import numpy as np\n",
    "import sqlite3 as lite\n",
    "\n",
    "filename = '1yr.sqlite'\n",
    "con = lite.connect(filename)\n",
    "con.row_factory = lite.Row\n",
    "cur = con.cursor()\n",
    "\n",
    "assembly_masses = cur.execute('SELECT distinct(assembly_id), initial_uranium_kg FROM '\n",
    "                              'discharge where reactor_id = 239').fetchall()\n",
    "total_mass = 0\n",
    "for row in assembly_masses:\n",
    "    total_mass += row['initial_uranium_kg'] * 1e-3\n",
    "print(total_mass)"
   ]
  },
  {
   "cell_type": "code",
   "execution_count": null,
   "metadata": {},
   "outputs": [],
   "source": []
  }
 ],
 "metadata": {
  "kernelspec": {
   "display_name": "Python 3",
   "language": "python",
   "name": "python3"
  },
  "language_info": {
   "codemirror_mode": {
    "name": "ipython",
    "version": 3
   },
   "file_extension": ".py",
   "mimetype": "text/x-python",
   "name": "python",
   "nbconvert_exporter": "python",
   "pygments_lexer": "ipython3",
   "version": "3.6.5"
  }
 },
 "nbformat": 4,
 "nbformat_minor": 2
}
